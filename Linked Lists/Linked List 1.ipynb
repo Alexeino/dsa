{
 "cells": [
  {
   "cell_type": "code",
   "execution_count": 1,
   "metadata": {},
   "outputs": [],
   "source": [
    "class Node:\n",
    "    def __init__(self,data):\n",
    "        self.data = data\n",
    "        self.next = None"
   ]
  },
  {
   "cell_type": "code",
   "execution_count": 2,
   "metadata": {},
   "outputs": [
    {
     "name": "stdout",
     "output_type": "stream",
     "text": [
      "13\n",
      "15\n",
      "15\n"
     ]
    }
   ],
   "source": [
    "a = Node(13)\n",
    "b = Node(15)\n",
    "a.next = b\n",
    "\n",
    "print(a.data)\n",
    "print(a.next.data)\n",
    "print(b.data)"
   ]
  },
  {
   "cell_type": "code",
   "execution_count": 3,
   "metadata": {},
   "outputs": [],
   "source": [
    "# Take Input, Save in linked list and return the head\n",
    "def takeInput():\n",
    "    inputList = [int(ele) for ele in input().split()]\n",
    "    head = None\n",
    "    for currData in inputList: # O(n)\n",
    "        if currData == -1:\n",
    "            break\n",
    "        newNode = Node(currData)\n",
    "        if head is None: # If head is None means it's the first Node and will be referenced as head\n",
    "            head = newNode\n",
    "        else:\n",
    "            cursor = head\n",
    "            while cursor.next is not None: # O(n)\n",
    "                cursor = cursor.next\n",
    "            cursor.next = newNode\n",
    "    return head\n",
    "\n",
    "head = takeInput()\n",
    "# T(n) = O(n^2)"
   ]
  },
  {
   "cell_type": "code",
   "execution_count": 4,
   "metadata": {},
   "outputs": [
    {
     "data": {
      "text/plain": [
       "-1"
      ]
     },
     "execution_count": 4,
     "metadata": {},
     "output_type": "execute_result"
    }
   ],
   "source": [
    "# Print Linked List\n",
    "def printLinkedList(head):\n",
    "    if head is None:\n",
    "        return -1\n",
    "    cursor = head\n",
    "    while cursor is not None:\n",
    "        print(cursor.data)\n",
    "        cursor = cursor.next\n",
    "\n",
    "printLinkedList(head)\n"
   ]
  },
  {
   "cell_type": "code",
   "execution_count": 45,
   "metadata": {},
   "outputs": [],
   "source": [
    "# Optimized Solution for Creating Linked List\n",
    "def takeInput2():\n",
    "    inputList = [int(ele) for ele in input().split()]\n",
    "    head = None\n",
    "    for currData in inputList:\n",
    "        newNode = Node(currData)\n",
    "        if head is None:\n",
    "            head = newNode\n",
    "            cursor = head\n",
    "        else:\n",
    "            cursor.next = newNode\n",
    "            cursor = cursor.next\n",
    "\n",
    "    return head\n",
    "\n",
    "head = takeInput2()"
   ]
  },
  {
   "cell_type": "code",
   "execution_count": 6,
   "metadata": {},
   "outputs": [],
   "source": [
    "def lengthRecursively(head):\n",
    "    if head is None:\n",
    "        return 0\n",
    "    return 1 + lengthRecursively(head.next)"
   ]
  },
  {
   "cell_type": "code",
   "execution_count": 7,
   "metadata": {},
   "outputs": [
    {
     "name": "stdout",
     "output_type": "stream",
     "text": [
      "0\n"
     ]
    },
    {
     "data": {
      "text/plain": [
       "-1"
      ]
     },
     "execution_count": 7,
     "metadata": {},
     "output_type": "execute_result"
    }
   ],
   "source": [
    "print(lengthRecursively(head))\n",
    "printLinkedList(head)\n"
   ]
  },
  {
   "cell_type": "code",
   "execution_count": 8,
   "metadata": {},
   "outputs": [],
   "source": [
    "# Append Last N to front of the LL\n",
    "def lastNtoFront(head,n):\n",
    "    offset = lengthRecursively(head) - n\n",
    "    prev = None\n",
    "    current = head\n",
    "    for i in range(offset):\n",
    "        prev = current\n",
    "        current = current.next\n",
    "\n",
    "    frontHead = current\n",
    "    prev.next = None\n",
    "\n",
    "    fcursor = frontHead\n",
    "    for i in range(lengthRecursively(frontHead) - 1):\n",
    "        fcursor = fcursor.next\n",
    "\n",
    "    fcursor.next = head\n",
    "\n",
    "    return frontHead\n",
    "\n",
    "    # printLinkedList(frontHead)\n",
    "    # printLinkedList(head)"
   ]
  },
  {
   "cell_type": "code",
   "execution_count": 9,
   "metadata": {},
   "outputs": [
    {
     "ename": "AttributeError",
     "evalue": "'NoneType' object has no attribute 'next'",
     "output_type": "error",
     "traceback": [
      "\u001b[1;31m---------------------------------------------------------------------------\u001b[0m",
      "\u001b[1;31mAttributeError\u001b[0m                            Traceback (most recent call last)",
      "\u001b[1;32m<ipython-input-9-96f5dd2b84ef>\u001b[0m in \u001b[0;36m<module>\u001b[1;34m\u001b[0m\n\u001b[1;32m----> 1\u001b[1;33m \u001b[0mrotatedHead\u001b[0m \u001b[1;33m=\u001b[0m \u001b[0mlastNtoFront\u001b[0m\u001b[1;33m(\u001b[0m\u001b[0mhead\u001b[0m\u001b[1;33m,\u001b[0m\u001b[1;36m0\u001b[0m\u001b[1;33m)\u001b[0m\u001b[1;33m\u001b[0m\u001b[1;33m\u001b[0m\u001b[0m\n\u001b[0m\u001b[0;32m      2\u001b[0m \u001b[0mprintLinkedList\u001b[0m\u001b[1;33m(\u001b[0m\u001b[0mrotatedHead\u001b[0m\u001b[1;33m)\u001b[0m\u001b[1;33m\u001b[0m\u001b[1;33m\u001b[0m\u001b[0m\n",
      "\u001b[1;32m<ipython-input-8-2e6cedf85787>\u001b[0m in \u001b[0;36mlastNtoFront\u001b[1;34m(head, n)\u001b[0m\n\u001b[0;32m      9\u001b[0m \u001b[1;33m\u001b[0m\u001b[0m\n\u001b[0;32m     10\u001b[0m     \u001b[0mfrontHead\u001b[0m \u001b[1;33m=\u001b[0m \u001b[0mcurrent\u001b[0m\u001b[1;33m\u001b[0m\u001b[1;33m\u001b[0m\u001b[0m\n\u001b[1;32m---> 11\u001b[1;33m     \u001b[0mprev\u001b[0m\u001b[1;33m.\u001b[0m\u001b[0mnext\u001b[0m \u001b[1;33m=\u001b[0m \u001b[1;32mNone\u001b[0m\u001b[1;33m\u001b[0m\u001b[1;33m\u001b[0m\u001b[0m\n\u001b[0m\u001b[0;32m     12\u001b[0m \u001b[1;33m\u001b[0m\u001b[0m\n\u001b[0;32m     13\u001b[0m     \u001b[0mfcursor\u001b[0m \u001b[1;33m=\u001b[0m \u001b[0mfrontHead\u001b[0m\u001b[1;33m\u001b[0m\u001b[1;33m\u001b[0m\u001b[0m\n",
      "\u001b[1;31mAttributeError\u001b[0m: 'NoneType' object has no attribute 'next'"
     ]
    }
   ],
   "source": [
    "rotatedHead = lastNtoFront(head,0)\n",
    "printLinkedList(rotatedHead)\n"
   ]
  },
  {
   "cell_type": "code",
   "execution_count": null,
   "metadata": {},
   "outputs": [
    {
     "name": "stdout",
     "output_type": "stream",
     "text": [
      "4\n"
     ]
    }
   ],
   "source": []
  },
  {
   "cell_type": "code",
   "execution_count": null,
   "metadata": {},
   "outputs": [
    {
     "data": {
      "text/plain": [
       "5"
      ]
     },
     "execution_count": 18,
     "metadata": {},
     "output_type": "execute_result"
    }
   ],
   "source": [
    "# Returning Length of a linked list with given head\n",
    "def length(head):\n",
    "    if head is None:\n",
    "        return -1\n",
    "    count = 0\n",
    "    while head is not None:\n",
    "        count += 1\n",
    "        head = head.next\n",
    "    return count\n",
    "\n",
    "length(head)"
   ]
  },
  {
   "cell_type": "code",
   "execution_count": null,
   "metadata": {},
   "outputs": [
    {
     "name": "stdout",
     "output_type": "stream",
     "text": [
      "4\n"
     ]
    }
   ],
   "source": [
    "# Print ith Node\n",
    "def ithNode(head,nth):\n",
    "    i = 0\n",
    "    cursor = head\n",
    "    result = None\n",
    "    while cursor is not None:\n",
    "        if i == nth:\n",
    "            result = cursor.data\n",
    "            break\n",
    "        cursor = cursor.next\n",
    "        i += 1\n",
    "    if result is None:\n",
    "        print(-1)\n",
    "    else:\n",
    "        print(result)\n",
    "    \n",
    "ithNode(head,3)    "
   ]
  },
  {
   "cell_type": "code",
   "execution_count": null,
   "metadata": {},
   "outputs": [
    {
     "name": "stdout",
     "output_type": "stream",
     "text": [
      "Given index is more than length\n"
     ]
    }
   ],
   "source": [
    "# Insert at ith Position\n",
    "def insertAtI(head,n,data):\n",
    "    prev = None\n",
    "    current = head\n",
    "    l = length(head)\n",
    "    if n > l:\n",
    "        print(\"Given index is more than length\")\n",
    "        return head\n",
    "\n",
    "    for i in range(n):\n",
    "        prev = current\n",
    "        current = current.next\n",
    "    # print(prev.data)\n",
    "    # print(current.data)\n",
    "    newNode = Node(data)\n",
    "    prev.next = newNode\n",
    "    newNode.next = current\n",
    "    return head\n",
    "\n",
    "# 1 2 3 5\n",
    "newHead = insertAtI(head,10,7)\n",
    "# T(n) = O(n) for length + O(n) Traversing to insert the element => T(n) = O(n)"
   ]
  },
  {
   "cell_type": "code",
   "execution_count": null,
   "metadata": {},
   "outputs": [
    {
     "data": {
      "text/plain": [
       "-1"
      ]
     },
     "execution_count": 11,
     "metadata": {},
     "output_type": "execute_result"
    }
   ],
   "source": [
    "printLinkedList(newHead)"
   ]
  },
  {
   "cell_type": "code",
   "execution_count": null,
   "metadata": {},
   "outputs": [
    {
     "name": "stdout",
     "output_type": "stream",
     "text": [
      "Given index is out of range\n"
     ]
    },
    {
     "data": {
      "text/plain": [
       "-1"
      ]
     },
     "execution_count": 12,
     "metadata": {},
     "output_type": "execute_result"
    }
   ],
   "source": [
    "# Delete ith Node\n",
    "def deleteAtI(head,ith):\n",
    "    prev = None\n",
    "    current = head\n",
    "    l = length(head)\n",
    "    if ith > l:\n",
    "        print(\"Given index is out of range\")\n",
    "        return head\n",
    "    for i in range(ith):\n",
    "        prev = current\n",
    "        current = current.next\n",
    "    prev.next = current.next\n",
    "\n",
    "    return head\n",
    "\n",
    "head = deleteAtI(newHead,3)\n",
    "printLinkedList(head)"
   ]
  },
  {
   "cell_type": "code",
   "execution_count": null,
   "metadata": {},
   "outputs": [
    {
     "data": {
      "text/plain": [
       "7"
      ]
     },
     "execution_count": 50,
     "metadata": {},
     "output_type": "execute_result"
    }
   ],
   "source": [
    "# Length of Linked List Recursively\n",
    "def lengthRecursively(head):\n",
    "    if head.next is None:\n",
    "        return 1\n",
    "    head = head.next\n",
    "    return 1 + lengthRecursively(head)\n",
    "\n",
    "lengthRecursively(head)\n",
    "# printLinkedList(head)"
   ]
  },
  {
   "cell_type": "code",
   "execution_count": null,
   "metadata": {},
   "outputs": [
    {
     "name": "stdout",
     "output_type": "stream",
     "text": [
      "1\n",
      "2\n",
      "3\n",
      "4\n",
      "5\n"
     ]
    }
   ],
   "source": [
    "printLinkedList(head)"
   ]
  },
  {
   "cell_type": "code",
   "execution_count": null,
   "metadata": {},
   "outputs": [],
   "source": [
    "def insertRecursively(head,i,data):\n",
    "    if i == 0:\n",
    "        newNode = Node(data)\n",
    "        newNode.next = head\n",
    "        return newNode\n",
    "    \n",
    "    smallHead = insertRecursively(head.next,i-1,data)\n",
    "    head.next = smallHead\n",
    "    return head"
   ]
  },
  {
   "cell_type": "code",
   "execution_count": null,
   "metadata": {},
   "outputs": [
    {
     "data": {
      "text/plain": [
       "<__main__.Node at 0x1b395c11320>"
      ]
     },
     "execution_count": 161,
     "metadata": {},
     "output_type": "execute_result"
    }
   ],
   "source": [
    "insertRecursively(head,2,4)"
   ]
  },
  {
   "cell_type": "code",
   "execution_count": null,
   "metadata": {},
   "outputs": [],
   "source": [
    "def fun(head,i,data):\n",
    "    # if head.next is None:\n",
    "    #     return head\n",
    "    if i == 0:\n",
    "        newNode = Node(data)\n",
    "        newNode.next = head\n",
    "        return newNode\n",
    "    smallhead = fun(head.next,i-1,data)\n",
    "    head.next = smallhead\n",
    "\n",
    "    return head\n",
    "\n",
    "head = fun(head,7,2)"
   ]
  },
  {
   "cell_type": "code",
   "execution_count": null,
   "metadata": {},
   "outputs": [
    {
     "name": "stdout",
     "output_type": "stream",
     "text": [
      "1\n",
      "2\n",
      "2\n",
      "3\n",
      "2\n",
      "4\n",
      "5\n",
      "2\n"
     ]
    }
   ],
   "source": [
    "printLinkedList(head)"
   ]
  },
  {
   "cell_type": "code",
   "execution_count": null,
   "metadata": {},
   "outputs": [],
   "source": [
    "def deleteAtIRecursively(head,i):\n",
    "    if head is None:\n",
    "        return head\n",
    "    if i == 0:\n",
    "        return head.next\n",
    "\n",
    "    smallhead= deleteAtIRecursively(head.next,i-1)\n",
    "    head.next = smallhead\n",
    "    return head\n",
    "# 1 2 2 3 2 4 5 2\n",
    "head = deleteAtIRecursively(head,7)"
   ]
  },
  {
   "cell_type": "code",
   "execution_count": null,
   "metadata": {},
   "outputs": [
    {
     "name": "stdout",
     "output_type": "stream",
     "text": [
      "1\n"
     ]
    }
   ],
   "source": [
    "printLinkedList(head)"
   ]
  },
  {
   "cell_type": "code",
   "execution_count": null,
   "metadata": {},
   "outputs": [],
   "source": [
    "# Linear Search for the Node\n",
    "def findNode(head,num):\n",
    "    l = length(head)\n",
    "    for i in range(l):\n",
    "        if head.data == num:\n",
    "            return i\n",
    "        else:\n",
    "            head = head.next\n",
    "    return -1"
   ]
  },
  {
   "cell_type": "code",
   "execution_count": null,
   "metadata": {},
   "outputs": [
    {
     "data": {
      "text/plain": [
       "-1"
      ]
     },
     "execution_count": 49,
     "metadata": {},
     "output_type": "execute_result"
    }
   ],
   "source": [
    "findNode(head,13)"
   ]
  },
  {
   "cell_type": "code",
   "execution_count": 17,
   "metadata": {},
   "outputs": [],
   "source": [
    "def lengthRecursively(head):\n",
    "    if head is None:\n",
    "        return 0\n",
    "    return 1 + lengthRecursively(head.next)"
   ]
  },
  {
   "cell_type": "code",
   "execution_count": null,
   "metadata": {},
   "outputs": [
    {
     "data": {
      "text/plain": [
       "7"
      ]
     },
     "execution_count": 52,
     "metadata": {},
     "output_type": "execute_result"
    }
   ],
   "source": [
    "lengthRecursively(head)"
   ]
  },
  {
   "cell_type": "code",
   "execution_count": null,
   "metadata": {},
   "outputs": [
    {
     "name": "stdout",
     "output_type": "stream",
     "text": [
      "1\n",
      "2\n"
     ]
    }
   ],
   "source": [
    "printLinkedList(head)"
   ]
  },
  {
   "cell_type": "code",
   "execution_count": null,
   "metadata": {},
   "outputs": [],
   "source": [
    "# Remove duplicates from a sorted Linked List\n",
    "def removeDuplicates(head):\n",
    "    prev = head\n",
    "    current = head.next\n",
    "    while current is not None:\n",
    "        if prev.data == current.data:\n",
    "            prev.next =current.next\n",
    "            current = current.next\n",
    "        else:\n",
    "            prev = current\n",
    "            current = current.next\n",
    "    \n",
    "    return head\n",
    "\n",
    "uniqueHead = removeDuplicates(head)"
   ]
  },
  {
   "cell_type": "code",
   "execution_count": null,
   "metadata": {},
   "outputs": [
    {
     "name": "stdout",
     "output_type": "stream",
     "text": [
      "1\n",
      "2\n",
      "3\n",
      "4\n"
     ]
    }
   ],
   "source": [
    "# printLinkedList(uniqueHead)\n",
    "printLinkedList(head)"
   ]
  },
  {
   "cell_type": "code",
   "execution_count": null,
   "metadata": {},
   "outputs": [
    {
     "name": "stdout",
     "output_type": "stream",
     "text": [
      "2\n",
      "1\n"
     ]
    },
    {
     "data": {
      "text/plain": [
       "-1"
      ]
     },
     "execution_count": 15,
     "metadata": {},
     "output_type": "execute_result"
    }
   ],
   "source": [
    "# Print Reversed Linked List\n",
    "def reverseLL(head):\n",
    "    if head is None:\n",
    "        return\n",
    "    small = reverseLL(head.next)\n",
    "    head.next = small\n",
    "    print(head.data)\n",
    "    \n",
    "rHead = reverseLL(head)\n",
    "printLinkedList(rHead)"
   ]
  },
  {
   "cell_type": "code",
   "execution_count": 21,
   "metadata": {},
   "outputs": [
    {
     "name": "stdout",
     "output_type": "stream",
     "text": [
      "5\n"
     ]
    }
   ],
   "source": [
    "# Reverse a Linked List\n",
    "def reverseLinkedList(head):\n",
    "    prev = None\n",
    "    current = head\n",
    "    next = head.next\n",
    "    while current is not None:\n",
    "        temp = current.next\n",
    "\n",
    "        current.next = prev\n",
    "\n",
    "        prev = current\n",
    "        current = temp\n",
    "    return prev\n",
    "\n",
    "reversedLLhead = reverseLinkedList(head)\n",
    "printLinkedList(reversedLLhead)"
   ]
  },
  {
   "cell_type": "code",
   "execution_count": 20,
   "metadata": {},
   "outputs": [
    {
     "name": "stdout",
     "output_type": "stream",
     "text": [
      "5\n"
     ]
    }
   ],
   "source": [
    "head = reverseLinkedList(reversedLLhead)\n",
    "printLinkedList(head)"
   ]
  },
  {
   "cell_type": "code",
   "execution_count": 51,
   "metadata": {},
   "outputs": [],
   "source": [
    "# Divide LL in two return two heads\n",
    "def partition(head):\n",
    "    l = lengthRecursively(head)\n",
    "    if l < 2:\n",
    "        secondHalf = None\n",
    "        return head,secondHalf\n",
    "\n",
    "    mid = l // 2\n",
    "    cursor = head\n",
    "    prev = None\n",
    "    for i in range(mid):\n",
    "        prev = cursor\n",
    "        cursor = cursor.next\n",
    "    secondHalf = cursor\n",
    "    secondHalf = reverseLinkedList(secondHalf)\n",
    "    prev.next = None\n",
    "\n",
    "    return head,secondHalf\n",
    "\n",
    "def isEqualHead(fHead,sHead):\n",
    "    fcursor = fHead\n",
    "    scursor = sHead\n",
    "    print(fcursor,\"--------\",scursor)\n",
    "    while fcursor is not None and scursor is not None:\n",
    "        if fcursor.data == scursor.data:\n",
    "            fcursor = fcursor.next\n",
    "            scursor = scursor.next\n",
    "        else:\n",
    "            return False\n",
    "    return True"
   ]
  },
  {
   "cell_type": "code",
   "execution_count": 50,
   "metadata": {},
   "outputs": [
    {
     "ename": "AttributeError",
     "evalue": "'NoneType' object has no attribute 'next'",
     "output_type": "error",
     "traceback": [
      "\u001b[1;31m---------------------------------------------------------------------------\u001b[0m",
      "\u001b[1;31mAttributeError\u001b[0m                            Traceback (most recent call last)",
      "\u001b[1;32m<ipython-input-50-9c567f4fd981>\u001b[0m in \u001b[0;36m<module>\u001b[1;34m\u001b[0m\n\u001b[1;32m----> 1\u001b[1;33m \u001b[0mfHalf\u001b[0m\u001b[1;33m,\u001b[0m\u001b[0msHalf\u001b[0m \u001b[1;33m=\u001b[0m \u001b[0mpartition\u001b[0m\u001b[1;33m(\u001b[0m\u001b[0mhead\u001b[0m\u001b[1;33m)\u001b[0m\u001b[1;33m\u001b[0m\u001b[1;33m\u001b[0m\u001b[0m\n\u001b[0m\u001b[0;32m      2\u001b[0m \u001b[0mprintLinkedList\u001b[0m\u001b[1;33m(\u001b[0m\u001b[0mfHalf\u001b[0m\u001b[1;33m)\u001b[0m\u001b[1;33m\u001b[0m\u001b[1;33m\u001b[0m\u001b[0m\n\u001b[0;32m      3\u001b[0m \u001b[0mprint\u001b[0m\u001b[1;33m(\u001b[0m\u001b[1;34m\"------------------------\"\u001b[0m\u001b[1;33m)\u001b[0m\u001b[1;33m\u001b[0m\u001b[1;33m\u001b[0m\u001b[0m\n\u001b[0;32m      4\u001b[0m \u001b[0mprintLinkedList\u001b[0m\u001b[1;33m(\u001b[0m\u001b[0msHalf\u001b[0m\u001b[1;33m)\u001b[0m\u001b[1;33m\u001b[0m\u001b[1;33m\u001b[0m\u001b[0m\n\u001b[0;32m      5\u001b[0m \u001b[1;33m\u001b[0m\u001b[0m\n",
      "\u001b[1;32m<ipython-input-48-bd487e6d88b4>\u001b[0m in \u001b[0;36mpartition\u001b[1;34m(head)\u001b[0m\n\u001b[0;32m     10\u001b[0m     \u001b[0msecondHalf\u001b[0m \u001b[1;33m=\u001b[0m \u001b[0mcursor\u001b[0m\u001b[1;33m\u001b[0m\u001b[1;33m\u001b[0m\u001b[0m\n\u001b[0;32m     11\u001b[0m     \u001b[0msecondHalf\u001b[0m \u001b[1;33m=\u001b[0m \u001b[0mreverseLinkedList\u001b[0m\u001b[1;33m(\u001b[0m\u001b[0msecondHalf\u001b[0m\u001b[1;33m)\u001b[0m\u001b[1;33m\u001b[0m\u001b[1;33m\u001b[0m\u001b[0m\n\u001b[1;32m---> 12\u001b[1;33m     \u001b[0mprev\u001b[0m\u001b[1;33m.\u001b[0m\u001b[0mnext\u001b[0m \u001b[1;33m=\u001b[0m \u001b[1;32mNone\u001b[0m\u001b[1;33m\u001b[0m\u001b[1;33m\u001b[0m\u001b[0m\n\u001b[0m\u001b[0;32m     13\u001b[0m \u001b[1;33m\u001b[0m\u001b[0m\n\u001b[0;32m     14\u001b[0m     \u001b[1;32mreturn\u001b[0m \u001b[0mhead\u001b[0m\u001b[1;33m,\u001b[0m\u001b[0msecondHalf\u001b[0m\u001b[1;33m\u001b[0m\u001b[1;33m\u001b[0m\u001b[0m\n",
      "\u001b[1;31mAttributeError\u001b[0m: 'NoneType' object has no attribute 'next'"
     ]
    }
   ],
   "source": [
    "fHalf,sHalf = partition(head)\n",
    "printLinkedList(fHalf)\n",
    "print(\"------------------------\")\n",
    "printLinkedList(sHalf)\n",
    "\n",
    "isEqualHead(fHalf,sHalf)"
   ]
  },
  {
   "cell_type": "code",
   "execution_count": 49,
   "metadata": {},
   "outputs": [
    {
     "name": "stdout",
     "output_type": "stream",
     "text": [
      "6\n"
     ]
    }
   ],
   "source": [
    "printLinkedList(head)"
   ]
  },
  {
   "cell_type": "code",
   "execution_count": null,
   "metadata": {},
   "outputs": [],
   "source": []
  }
 ],
 "metadata": {
  "kernelspec": {
   "display_name": "Python 3.6.7 64-bit",
   "language": "python",
   "name": "python3"
  },
  "language_info": {
   "codemirror_mode": {
    "name": "ipython",
    "version": 3
   },
   "file_extension": ".py",
   "mimetype": "text/x-python",
   "name": "python",
   "nbconvert_exporter": "python",
   "pygments_lexer": "ipython3",
   "version": "3.6.7"
  },
  "orig_nbformat": 4,
  "vscode": {
   "interpreter": {
    "hash": "806f607d2879a1b4a19c569ea1c4d008a051dacfc486f88d2f569701cd0a043a"
   }
  }
 },
 "nbformat": 4,
 "nbformat_minor": 2
}
