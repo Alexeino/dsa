{
 "cells": [
  {
   "cell_type": "code",
   "execution_count": 2,
   "metadata": {},
   "outputs": [],
   "source": [
    "# Quick Sort\n",
    "\n",
    "# Part 1\n",
    "# Choose a pivot point mostly a[0], put it at its right place and move smaller to left and greater to the right\n",
    "\n",
    "def pivot_function(a,si,ei):\n",
    "    \n",
    "    pivot = a[si]\n",
    "    \n",
    "    count = 0\n",
    "    for i in range(si,ei+1):\n",
    "        if a[i] < pivot:\n",
    "            count += 1\n",
    "    # Got the count of the element smaller than pivot\n",
    "    # Swap a[0] from the element at a[si+count] element\n",
    "    a[si+count],a[si] = a[si], a[si+count]\n",
    "    # Got the list where a[0] is at it's right position\n",
    "\n",
    "    # Now move all smaller to left and greater to right\n",
    "    pivot_index = si + count\n",
    "    i = si\n",
    "    j = ei\n",
    "\n",
    "    while i < j:\n",
    "        if a[i] < pivot:\n",
    "            i += 1\n",
    "        elif a[j] > pivot:\n",
    "            j -= 1\n",
    "        else:\n",
    "            a[i],a[j] = a[j],a[i]\n",
    "            i += 1\n",
    "            j -= 1\n",
    "    \n",
    "    return pivot_index\n",
    "\n"
   ]
  },
  {
   "cell_type": "code",
   "execution_count": 3,
   "metadata": {},
   "outputs": [],
   "source": [
    "def quick_sort(a,si,ei):\n",
    "    if si > ei:\n",
    "        return\n",
    "        \n",
    "    pivot = pivot_function(a,si,ei)\n",
    "    quick_sort(a,si,pivot-1)\n",
    "    quick_sort(a,pivot+1,ei)"
   ]
  },
  {
   "cell_type": "code",
   "execution_count": 4,
   "metadata": {},
   "outputs": [],
   "source": [
    "a = [7,6,8,4,3,78,8,4,8]\n",
    "quick_sort(a,0,len(a)-1)\n"
   ]
  },
  {
   "cell_type": "code",
   "execution_count": 5,
   "metadata": {},
   "outputs": [
    {
     "data": {
      "text/plain": [
       "[6, 7, 9, 10, 13, 11]"
      ]
     },
     "execution_count": 5,
     "metadata": {},
     "output_type": "execute_result"
    }
   ],
   "source": [
    "ls1 = [9,7,6,10,13,11]\n",
    "pivot_function(ls1,0,len(ls1)-1)\n",
    "ls1"
   ]
  },
  {
   "cell_type": "code",
   "execution_count": null,
   "metadata": {},
   "outputs": [],
   "source": []
  }
 ],
 "metadata": {
  "kernelspec": {
   "display_name": "Python 3.11.0 64-bit",
   "language": "python",
   "name": "python3"
  },
  "language_info": {
   "codemirror_mode": {
    "name": "ipython",
    "version": 3
   },
   "file_extension": ".py",
   "mimetype": "text/x-python",
   "name": "python",
   "nbconvert_exporter": "python",
   "pygments_lexer": "ipython3",
   "version": "3.11.0"
  },
  "orig_nbformat": 4,
  "vscode": {
   "interpreter": {
    "hash": "c261aea317cc0286b3b3261fbba9abdec21eaa57589985bb7a274bf54d6cc0a7"
   }
  }
 },
 "nbformat": 4,
 "nbformat_minor": 2
}
