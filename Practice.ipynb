{
 "cells": [
  {
   "cell_type": "code",
   "execution_count": 1,
   "metadata": {},
   "outputs": [],
   "source": [
    "# Merge Sort\n",
    "def merge(l1,l2):\n",
    "    # [3,4,5] [1,2,6]\n",
    "    temp = []\n",
    "    i = 0\n",
    "    j = 0\n",
    "    while i < len(l1) :\n",
    "        if l1[i] < l2[j]:\n",
    "            temp.append(l1[i])\n",
    "            i+= 1\n",
    "        else:\n",
    "            temp.append(l2[j])\n",
    "            j+= 1\n",
    "        if j == len(l2):\n",
    "            break\n",
    "\n",
    "    while j < len(l2):\n",
    "        temp.append(l2[j])\n",
    "        j+=1\n",
    "    while i < len(l1):\n",
    "        temp.append(l1[i])\n",
    "        i += 1\n",
    "    \n",
    "    return temp\n",
    "\n",
    "def mergeSort(ls):\n",
    "    if len(ls) <= 1:\n",
    "        return ls\n",
    "    mid = len(ls) // 2\n",
    "\n",
    "    ls1 = ls[:mid]\n",
    "    ls2 = ls[mid:]\n",
    "\n",
    "    small1 = mergeSort(ls1)\n",
    "    small2 = mergeSort(ls2)\n",
    "\n",
    "    temp = merge(small1,small2)\n",
    "\n",
    "    return temp"
   ]
  },
  {
   "cell_type": "code",
   "execution_count": 2,
   "metadata": {},
   "outputs": [
    {
     "name": "stdout",
     "output_type": "stream",
     "text": [
      "1\n"
     ]
    },
    {
     "data": {
      "text/plain": [
       "[]"
      ]
     },
     "execution_count": 2,
     "metadata": {},
     "output_type": "execute_result"
    }
   ],
   "source": [
    "# Program to find intersection of two given arrays without O(n^2) solution\n",
    "def findIntersection(ls1,ls2):\n",
    "\n",
    "    temp = []\n",
    "    l1 = mergeSort(ls1)\n",
    "    l2 = mergeSort(ls2)\n",
    "\n",
    "    i = 0 \n",
    "    j = 0\n",
    "\n",
    "    while i <= len(l1):\n",
    "        if l1[i] > l2[j]:\n",
    "            j += 1\n",
    "            print(j)\n",
    "        elif l1[i] < l2[j]:\n",
    "            i += 1\n",
    "            # print(i)\n",
    "        else:\n",
    "            temp.append(l2[j])\n",
    "            # print(l2[j])\n",
    "            i += 1\n",
    "            j += 1\n",
    "\n",
    "        if j <= len(l2):\n",
    "            # print(j)\n",
    "            break\n",
    "    return temp\n",
    "\n",
    "l1 = [4,6,7,9]\n",
    "l2 = [2,6,9,11]\n",
    "findIntersection(l1,l2)"
   ]
  },
  {
   "cell_type": "code",
   "execution_count": 157,
   "metadata": {},
   "outputs": [],
   "source": [
    "def equilibrium(ls):\n",
    "    if len(ls) == 0:\n",
    "        return -1\n",
    "    i = 0\n",
    "    leftSum = 0\n",
    "    rightSum = sum(ls) - ls[i]\n",
    "\n",
    "    while i < len(ls) - 1:\n",
    "        print(leftSum,\"    \",rightSum)\n",
    "        if leftSum == rightSum:\n",
    "            return i\n",
    "        else:\n",
    "            leftSum += ls[i]\n",
    "            rightSum -= ls[i+1]\n",
    "            i += 1\n",
    "\n",
    "    return -1"
   ]
  },
  {
   "cell_type": "code",
   "execution_count": 158,
   "metadata": {},
   "outputs": [
    {
     "name": "stdout",
     "output_type": "stream",
     "text": [
      "0      14\n",
      "1      12\n",
      "3      8\n",
      "7      8\n",
      "7      4\n"
     ]
    },
    {
     "data": {
      "text/plain": [
       "-1"
      ]
     },
     "execution_count": 158,
     "metadata": {},
     "output_type": "execute_result"
    }
   ],
   "source": [
    "equilibrium([1,2,4,0,4,4])\n",
    "# equilibrium([6 ,1, 6, 5, 3, 2, 5, 0, 5, 6, 0 ])\n",
    "# equilibrium([1,3,0,4])"
   ]
  },
  {
   "cell_type": "code",
   "execution_count": 161,
   "metadata": {},
   "outputs": [],
   "source": [
    "# Given a list, contains each number twice and 1 single unique number, we need to find that unique number\n",
    "# input = [1,3,6,4,3,1,4]\n",
    "\n",
    "# Aproach 1, using Sorting then compairing i and i + 1 th elements\n",
    "\n",
    "def findUnique(ls):\n",
    "    ls.sort()\n",
    "    i = 0\n",
    "    while i < len(ls):\n",
    "        if i == len(ls) - 1:\n",
    "            return ls[i]\n",
    "        elif ls[i] == ls[i+1]:\n",
    "            i += 2\n",
    "        else:\n",
    "            return ls[i]"
   ]
  },
  {
   "cell_type": "code",
   "execution_count": 162,
   "metadata": {},
   "outputs": [
    {
     "data": {
      "text/plain": [
       "1"
      ]
     },
     "execution_count": 162,
     "metadata": {},
     "output_type": "execute_result"
    }
   ],
   "source": [
    "n1 = [2,3,1,6,3,6,2]\n",
    "\n",
    "findUnique(n1)"
   ]
  },
  {
   "cell_type": "code",
   "execution_count": 163,
   "metadata": {},
   "outputs": [],
   "source": [
    "# Given an array of size N, containing numbers ranging from 0 to N-2, such that only single number will be in list twice we need to find that number\n",
    "# 0 7 2 5 4 7 1 3 6    => Output = 7\n",
    "def findDuplicate(ls):\n",
    "    ls.sort()\n",
    "    i = 0\n",
    "    while i < len(ls):\n",
    "        if i == len(ls) - 1:\n",
    "            return\n",
    "        elif ls[i] == ls[i+1]:\n",
    "            return ls[i]\n",
    "        else:\n",
    "            i += 1\n",
    "        \n"
   ]
  },
  {
   "cell_type": "code",
   "execution_count": 164,
   "metadata": {},
   "outputs": [
    {
     "data": {
      "text/plain": [
       "3"
      ]
     },
     "execution_count": 164,
     "metadata": {},
     "output_type": "execute_result"
    }
   ],
   "source": [
    "l1 = [0,3,1,2,3]\n",
    "findDuplicate(l1)"
   ]
  },
  {
   "cell_type": "code",
   "execution_count": 6,
   "metadata": {},
   "outputs": [],
   "source": [
    "def pairSum(ls,num):\n",
    "    ls.sort()\n",
    "    j = 0\n",
    "    k = len(ls) - 1\n",
    "    pair_count = 0\n",
    "    while j < k:\n",
    "        sum = ls[j] + ls[k]\n",
    "        if sum < num:\n",
    "            j += 1\n",
    "        elif sum > num:\n",
    "            k -= 1\n",
    "        else:\n",
    "            if ls[j] == ls[k]:\n",
    "                # in case of list like [4,4,4,4] for sum 8, all elements are same in the list\n",
    "                # use direct formula -> n*(n-1) // 2\n",
    "                total_element = (k - j) + 1\n",
    "                pair_count += (total_element * (total_element - 1))//2\n",
    "\n",
    "                return pair_count\n",
    "            temp_j = j+1\n",
    "            temp_k = k-1\n",
    "            while ((temp_j <= temp_k) and (ls[temp_j] == ls[j])):\n",
    "                temp_j += 1\n",
    "            while ((temp_k >= temp_j) and (ls[temp_k] == ls[k])):\n",
    "                temp_k -= 1\n",
    "\n",
    "            total_j = temp_j - j    \n",
    "            total_k = k - temp_k\n",
    "\n",
    "            pair_count += (total_j * total_k)\n",
    "            j = temp_j\n",
    "            k = temp_k\n",
    "    return pair_count"
   ]
  },
  {
   "cell_type": "code",
   "execution_count": 8,
   "metadata": {},
   "outputs": [
    {
     "data": {
      "text/plain": [
       "3"
      ]
     },
     "execution_count": 8,
     "metadata": {},
     "output_type": "execute_result"
    }
   ],
   "source": [
    "ls = [1,2,3,4,5,6,7]\n",
    "# ls = [4,4,4,4]\n",
    "pairSum(ls,8)"
   ]
  },
  {
   "cell_type": "code",
   "execution_count": 16,
   "metadata": {},
   "outputs": [],
   "source": [
    "# Rotate array by n numbers\n",
    "\n",
    "def rotateRight(ls,num):\n",
    "    s = len(ls) - num\n",
    "    tmp = []\n",
    "    i = s\n",
    "    while i < len(ls):\n",
    "        tmp.append(ls[i])\n",
    "        i += 1\n",
    "    j = 0\n",
    "    while j < s:\n",
    "        tmp.append(ls[j])\n",
    "        j += 1\n",
    "\n",
    "    return tmp"
   ]
  },
  {
   "cell_type": "code",
   "execution_count": 15,
   "metadata": {},
   "outputs": [
    {
     "data": {
      "text/plain": [
       "[3, 4, 5, 1, 2]"
      ]
     },
     "execution_count": 15,
     "metadata": {},
     "output_type": "execute_result"
    }
   ],
   "source": [
    "rotateRight([1,2,3,4,5],3)"
   ]
  },
  {
   "cell_type": "code",
   "execution_count": 27,
   "metadata": {},
   "outputs": [],
   "source": [
    "def rotateLeft(ls,num):\n",
    "    l = len(ls)\n",
    "    i = num\n",
    "    tmp = []\n",
    "    while i < l:\n",
    "        tmp.append(ls[i])\n",
    "        i += 1\n",
    "    j = 0\n",
    "    while j < num:\n",
    "        tmp.append(ls[j])\n",
    "        j+=1\n",
    "    return tmp"
   ]
  },
  {
   "cell_type": "code",
   "execution_count": 31,
   "metadata": {},
   "outputs": [
    {
     "data": {
      "text/plain": [
       "[6, 11, 12, 17, 1, 3]"
      ]
     },
     "execution_count": 31,
     "metadata": {},
     "output_type": "execute_result"
    }
   ],
   "source": [
    "ls = [1,2,3,4]\n",
    "ls = [1,3,6,11,12,17]\n",
    "rotateLeft(ls,2)"
   ]
  },
  {
   "cell_type": "code",
   "execution_count": 50,
   "metadata": {},
   "outputs": [],
   "source": [
    "def rotateLeft(ls,num):\n",
    "    l = len(ls)\n",
    "    i = 0\n",
    "    first_d_elements = ls[:num]\n",
    "    while i < l - num:\n",
    "        ls[i] = ls[i+num]\n",
    "        i += 1\n",
    "    print(first_d_elements)\n",
    "    j = 0\n",
    "    while j < len(first_d_elements):\n",
    "        ls[j+i] = first_d_elements[j]\n",
    "        j += 1"
   ]
  },
  {
   "cell_type": "code",
   "execution_count": 51,
   "metadata": {},
   "outputs": [
    {
     "name": "stdout",
     "output_type": "stream",
     "text": [
      "[1, 3]\n"
     ]
    },
    {
     "data": {
      "text/plain": [
       "[6, 11, 12, 17, 1, 3]"
      ]
     },
     "execution_count": 51,
     "metadata": {},
     "output_type": "execute_result"
    }
   ],
   "source": [
    "ls = [1,3,6,11,12,17]\n",
    "rotateLeft(ls,2)\n",
    "ls"
   ]
  },
  {
   "cell_type": "code",
   "execution_count": null,
   "metadata": {},
   "outputs": [],
   "source": []
  }
 ],
 "metadata": {
  "kernelspec": {
   "display_name": "Python 3.11.0 64-bit",
   "language": "python",
   "name": "python3"
  },
  "language_info": {
   "codemirror_mode": {
    "name": "ipython",
    "version": 3
   },
   "file_extension": ".py",
   "mimetype": "text/x-python",
   "name": "python",
   "nbconvert_exporter": "python",
   "pygments_lexer": "ipython3",
   "version": "3.11.0"
  },
  "orig_nbformat": 4,
  "vscode": {
   "interpreter": {
    "hash": "c261aea317cc0286b3b3261fbba9abdec21eaa57589985bb7a274bf54d6cc0a7"
   }
  }
 },
 "nbformat": 4,
 "nbformat_minor": 2
}
