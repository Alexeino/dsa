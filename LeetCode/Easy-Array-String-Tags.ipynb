{
 "cells": [
  {
   "cell_type": "code",
   "execution_count": 1,
   "metadata": {},
   "outputs": [],
   "source": [
    "# Question 1:  500. Keyboard Row\n",
    "# Given an array of strings words, return the words that can be typed using letters of the alphabet on only one row of American keyboard like the image below.\n",
    "# In the American keyboard:\n",
    "# the first row consists of the characters \"qwertyuiop\",\n",
    "# the second row consists of the characters \"asdfghjkl\", and\n",
    "# the third row consists of the characters \"zxcvbnm\".\n"
   ]
  },
  {
   "cell_type": "code",
   "execution_count": 35,
   "metadata": {},
   "outputs": [],
   "source": [
    "def wordLetter(words):\n",
    "    row1 = \"qwertyuiop\"\n",
    "    row2 = \"asdfghjkl\"\n",
    "    row3 = \"zxcvbnm\"\n",
    "    result = []\n",
    "    for word in words:\n",
    "        res_row = None\n",
    "        \n",
    "        if word[0] in row1:\n",
    "            res_row = row1\n",
    "        elif word[0] in row2:\n",
    "            res_row = row2\n",
    "        else:\n",
    "            res_row = row3\n",
    "        print(res_row)\n",
    "        flag = 0\n",
    "\n",
    "        for i in word:\n",
    "            if i not in res_row:\n",
    "                flag = 1\n",
    "                break\n",
    "        \n",
    "        if flag == 0:\n",
    "            result.append(word)\n",
    "    return result"
   ]
  },
  {
   "cell_type": "code",
   "execution_count": 36,
   "metadata": {},
   "outputs": [
    {
     "name": "stdout",
     "output_type": "stream",
     "text": [
      "zxcvbnm\n",
      "zxcvbnm\n",
      "zxcvbnm\n",
      "zxcvbnm\n"
     ]
    },
    {
     "data": {
      "text/plain": [
       "[]"
      ]
     },
     "execution_count": 36,
     "metadata": {},
     "output_type": "execute_result"
    }
   ],
   "source": [
    "words = [\"Hello\",\"Alaska\",\"Dad\",\"Peace\"]\n",
    "wordLetter(words)"
   ]
  },
  {
   "cell_type": "code",
   "execution_count": 37,
   "metadata": {},
   "outputs": [
    {
     "name": "stdout",
     "output_type": "stream",
     "text": [
      "a\n",
      "d\n",
      "s\n",
      "a\n",
      "f\n",
      "s\n"
     ]
    }
   ],
   "source": []
  },
  {
   "cell_type": "code",
   "execution_count": null,
   "metadata": {},
   "outputs": [],
   "source": []
  }
 ],
 "metadata": {
  "kernelspec": {
   "display_name": "Python 3.11.0 64-bit",
   "language": "python",
   "name": "python3"
  },
  "language_info": {
   "codemirror_mode": {
    "name": "ipython",
    "version": 3
   },
   "file_extension": ".py",
   "mimetype": "text/x-python",
   "name": "python",
   "nbconvert_exporter": "python",
   "pygments_lexer": "ipython3",
   "version": "3.11.0"
  },
  "orig_nbformat": 4,
  "vscode": {
   "interpreter": {
    "hash": "c261aea317cc0286b3b3261fbba9abdec21eaa57589985bb7a274bf54d6cc0a7"
   }
  }
 },
 "nbformat": 4,
 "nbformat_minor": 2
}
