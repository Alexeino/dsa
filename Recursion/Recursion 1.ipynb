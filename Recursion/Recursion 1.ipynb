{
 "cells": [
  {
   "cell_type": "code",
   "execution_count": 1,
   "metadata": {},
   "outputs": [
    {
     "data": {
      "text/plain": [
       "24"
      ]
     },
     "execution_count": 1,
     "metadata": {},
     "output_type": "execute_result"
    }
   ],
   "source": [
    "def factorial(n):\n",
    "    if n == 1:\n",
    "        return 1\n",
    "    return n * factorial(n-1)\n",
    "factorial(4)"
   ]
  },
  {
   "cell_type": "code",
   "execution_count": 5,
   "metadata": {},
   "outputs": [
    {
     "data": {
      "text/plain": [
       "15"
      ]
     },
     "execution_count": 5,
     "metadata": {},
     "output_type": "execute_result"
    }
   ],
   "source": [
    "def sum(n):\n",
    "    if n == 0:\n",
    "        return n\n",
    "    smallSum = n + sum(n-1)\n",
    "    return smallSum\n",
    "\n",
    "sum(5)"
   ]
  },
  {
   "cell_type": "code",
   "execution_count": 7,
   "metadata": {},
   "outputs": [
    {
     "data": {
      "text/plain": [
       "81"
      ]
     },
     "execution_count": 7,
     "metadata": {},
     "output_type": "execute_result"
    }
   ],
   "source": [
    "# Power of a Number using Recursion\n",
    "\n",
    "def power(a,b):\n",
    "    if b == 0:\n",
    "        return 1\n",
    "    smallPower = a * power(a,b-1)\n",
    "    return smallPower\n",
    "\n",
    "power(3,4)"
   ]
  },
  {
   "cell_type": "code",
   "execution_count": 10,
   "metadata": {},
   "outputs": [
    {
     "name": "stdout",
     "output_type": "stream",
     "text": [
      "1\n",
      "--------------\n",
      "1\n",
      "2\n",
      "3\n",
      "4\n",
      "5\n"
     ]
    }
   ],
   "source": [
    "# Print N Natural numbers\n",
    "def printN(n):\n",
    "    if n < 1:\n",
    "        return\n",
    "    smallerN = printN(n-1)\n",
    "    print(n)\n",
    "    return smallerN\n",
    "printN(1)\n",
    "print(\"--------------\")\n",
    "printN(5)"
   ]
  },
  {
   "cell_type": "code",
   "execution_count": 34,
   "metadata": {},
   "outputs": [
    {
     "data": {
      "text/plain": [
       "5"
      ]
     },
     "execution_count": 34,
     "metadata": {},
     "output_type": "execute_result"
    }
   ],
   "source": [
    "# Nth fibonacci number using recursion\n",
    "\n",
    "def fibonacci(n):\n",
    "    if n <= 1:\n",
    "        return n\n",
    "    fib1 = fibonacci(n-1)\n",
    "    fib2 = fibonacci(n-2)\n",
    "\n",
    "    return fib1 + fib2\n",
    "fibonacci(5)"
   ]
  },
  {
   "cell_type": "code",
   "execution_count": 37,
   "metadata": {},
   "outputs": [
    {
     "data": {
      "text/plain": [
       "5"
      ]
     },
     "execution_count": 37,
     "metadata": {},
     "output_type": "execute_result"
    }
   ],
   "source": [
    "# Nth fibonacci number using while\n",
    "def fibonacciWhile(n):\n",
    "    prev = 0\n",
    "    current = 1\n",
    "    count = 1\n",
    "    while count < n:\n",
    "        tmp = current\n",
    "        current = prev + current\n",
    "        prev = tmp\n",
    "        count += 1\n",
    "    return current\n",
    "\n",
    "fibonacciWhile(5)"
   ]
  },
  {
   "cell_type": "code",
   "execution_count": 39,
   "metadata": {},
   "outputs": [
    {
     "data": {
      "text/plain": [
       "5"
      ]
     },
     "execution_count": 39,
     "metadata": {},
     "output_type": "execute_result"
    }
   ],
   "source": [
    "def fibonacciFor(n):\n",
    "    prev = 0\n",
    "    current = 1\n",
    "    for i in range(n-1):\n",
    "        tmp = current \n",
    "        current += prev\n",
    "        prev = tmp\n",
    "    return current\n",
    "\n",
    "fibonacciFor(5)"
   ]
  },
  {
   "cell_type": "code",
   "execution_count": 58,
   "metadata": {},
   "outputs": [
    {
     "name": "stdout",
     "output_type": "stream",
     "text": [
      "False\n"
     ]
    }
   ],
   "source": [
    "# Check if list is sorted or not\n",
    "\n",
    "def isSorted(ls):\n",
    "    if len(ls) <= 1:\n",
    "        return True\n",
    "    if ls[0] > ls[1]:\n",
    "        return False\n",
    "    smallerList = isSorted(ls[1:]) #Used slicing to create a new List\n",
    "    return smallerList\n",
    "\n",
    "ls = [1,3,4,6,12,10]\n",
    "print(isSorted(ls))"
   ]
  },
  {
   "cell_type": "code",
   "execution_count": 60,
   "metadata": {},
   "outputs": [],
   "source": [
    "# Check if list sorted or not without slicing (reduce space complexity)\n",
    "\n",
    "def isSortedSi(ls,si=0):\n",
    "    if si == len(ls) - 1:\n",
    "        return True\n",
    "    if ls[si] > ls[si+1]:\n",
    "        return False\n",
    "    return isSortedSi(ls,si+1)\n",
    "\n"
   ]
  },
  {
   "cell_type": "code",
   "execution_count": 62,
   "metadata": {},
   "outputs": [
    {
     "name": "stdout",
     "output_type": "stream",
     "text": [
      "True\n"
     ]
    }
   ],
   "source": [
    "\n",
    "ls = [1,3,4,6,10]\n",
    "print(isSortedSi(ls))"
   ]
  },
  {
   "cell_type": "code",
   "execution_count": 55,
   "metadata": {},
   "outputs": [
    {
     "name": "stdout",
     "output_type": "stream",
     "text": [
      "17\n"
     ]
    },
    {
     "data": {
      "text/plain": [
       "0"
      ]
     },
     "execution_count": 55,
     "metadata": {},
     "output_type": "execute_result"
    }
   ],
   "source": [
    "# Sum of array using Recursion\n",
    "def sumOfArray(ls):\n",
    "    if len(ls) == 0:\n",
    "        return 0\n",
    "    smallerList = sumOfArray(ls[1:])\n",
    "    return ls[0] + smallerList\n",
    "print(sumOfArray([1,2,3,5,6]))\n",
    "sumOfArray([])"
   ]
  },
  {
   "cell_type": "code",
   "execution_count": 56,
   "metadata": {},
   "outputs": [
    {
     "data": {
      "text/plain": [
       "True"
      ]
     },
     "execution_count": 56,
     "metadata": {},
     "output_type": "execute_result"
    }
   ],
   "source": [
    "# Check nubmer in array using recursion\n",
    "def checkNumber(ls,x):\n",
    "    if len(ls) == 0:\n",
    "        return False\n",
    "\n",
    "    if ls[0] == x:\n",
    "        return True\n",
    "    \n",
    "    smallerList = checkNumber(ls[1:],x)\n",
    "    return smallerList\n",
    "\n",
    "checkNumber([2,34,3,5,36,7],34)"
   ]
  },
  {
   "cell_type": "code",
   "execution_count": 57,
   "metadata": {},
   "outputs": [
    {
     "data": {
      "text/plain": [
       "False"
      ]
     },
     "execution_count": 57,
     "metadata": {},
     "output_type": "execute_result"
    }
   ],
   "source": [
    "checkNumber([2,34,3,5,36,7],134)"
   ]
  },
  {
   "cell_type": "code",
   "execution_count": null,
   "metadata": {},
   "outputs": [],
   "source": [
    "#"
   ]
  }
 ],
 "metadata": {
  "kernelspec": {
   "display_name": "Python 3.6.7 64-bit",
   "language": "python",
   "name": "python3"
  },
  "language_info": {
   "codemirror_mode": {
    "name": "ipython",
    "version": 3
   },
   "file_extension": ".py",
   "mimetype": "text/x-python",
   "name": "python",
   "nbconvert_exporter": "python",
   "pygments_lexer": "ipython3",
   "version": "3.6.7"
  },
  "orig_nbformat": 4,
  "vscode": {
   "interpreter": {
    "hash": "806f607d2879a1b4a19c569ea1c4d008a051dacfc486f88d2f569701cd0a043a"
   }
  }
 },
 "nbformat": 4,
 "nbformat_minor": 2
}
