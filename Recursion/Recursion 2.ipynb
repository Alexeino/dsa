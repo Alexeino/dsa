{
 "cells": [
  {
   "cell_type": "code",
   "execution_count": 36,
   "metadata": {},
   "outputs": [],
   "source": [
    "# Binary Search using Recursion\n",
    "def binarySearch(ls,x,si,ei):\n",
    "    if si > ei:\n",
    "        return -1\n",
    "    mid = (si+ei)//2\n",
    "    if ls[mid] == x:\n",
    "        return mid\n",
    "    elif ls[mid] > x:\n",
    "        return binarySearch(ls,x,si,mid-1)\n",
    "    else:\n",
    "        return binarySearch(ls,x,mid+1,ei)"
   ]
  },
  {
   "cell_type": "code",
   "execution_count": 37,
   "metadata": {},
   "outputs": [
    {
     "data": {
      "text/plain": [
       "-1"
      ]
     },
     "execution_count": 37,
     "metadata": {},
     "output_type": "execute_result"
    }
   ],
   "source": [
    "ls = [3,4,5,6,7,45,324,644,999]\n",
    "binarySearch(ls,3240,0,7)"
   ]
  },
  {
   "cell_type": "code",
   "execution_count": null,
   "metadata": {},
   "outputs": [],
   "source": []
  }
 ],
 "metadata": {
  "kernelspec": {
   "display_name": "Python 3.6.7 64-bit",
   "language": "python",
   "name": "python3"
  },
  "language_info": {
   "codemirror_mode": {
    "name": "ipython",
    "version": 3
   },
   "file_extension": ".py",
   "mimetype": "text/x-python",
   "name": "python",
   "nbconvert_exporter": "python",
   "pygments_lexer": "ipython3",
   "version": "3.6.7"
  },
  "orig_nbformat": 4,
  "vscode": {
   "interpreter": {
    "hash": "806f607d2879a1b4a19c569ea1c4d008a051dacfc486f88d2f569701cd0a043a"
   }
  }
 },
 "nbformat": 4,
 "nbformat_minor": 2
}
