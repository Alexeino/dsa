{
 "cells": [
  {
   "cell_type": "code",
   "execution_count": 2,
   "metadata": {},
   "outputs": [],
   "source": [
    "class Node:\n",
    "    def __init__(self,data):\n",
    "        self.data = data\n",
    "        self.next = None"
   ]
  },
  {
   "cell_type": "code",
   "execution_count": 3,
   "metadata": {},
   "outputs": [
    {
     "name": "stdout",
     "output_type": "stream",
     "text": [
      "13\n",
      "15\n",
      "15\n"
     ]
    }
   ],
   "source": [
    "a = Node(13)\n",
    "b = Node(15)\n",
    "a.next = b\n",
    "\n",
    "print(a.data)\n",
    "print(a.next.data)\n",
    "print(b.data)"
   ]
  },
  {
   "cell_type": "code",
   "execution_count": 4,
   "metadata": {},
   "outputs": [],
   "source": [
    "# Take Input, Save in linked list and return the head\n",
    "def takeInput():\n",
    "    inputList = [int(ele) for ele in input().split()]\n",
    "    head = None\n",
    "    for currData in inputList: # O(n)\n",
    "        if currData == -1:\n",
    "            break\n",
    "        newNode = Node(currData)\n",
    "        if head is None: # If head is None means it's the first Node and will be referenced as head\n",
    "            head = newNode\n",
    "        else:\n",
    "            cursor = head\n",
    "            while cursor.next is not None: # O(n)\n",
    "                cursor = cursor.next\n",
    "            cursor.next = newNode\n",
    "    return head\n",
    "\n",
    "head = takeInput()\n",
    "# T(n) = O(n^2)"
   ]
  },
  {
   "cell_type": "code",
   "execution_count": 5,
   "metadata": {},
   "outputs": [
    {
     "data": {
      "text/plain": [
       "-1"
      ]
     },
     "execution_count": 5,
     "metadata": {},
     "output_type": "execute_result"
    }
   ],
   "source": [
    "# Print Linked List\n",
    "def printLinkedList(head):\n",
    "    if head is None:\n",
    "        return -1\n",
    "    cursor = head\n",
    "    while cursor is not None:\n",
    "        print(cursor.data)\n",
    "        cursor = cursor.next\n",
    "\n",
    "printLinkedList(head)\n"
   ]
  },
  {
   "cell_type": "code",
   "execution_count": 16,
   "metadata": {},
   "outputs": [],
   "source": [
    "# Optimized Solution for Creating Linked List\n",
    "def takeInput2():\n",
    "    inputList = [int(ele) for ele in input().split()]\n",
    "    head = None\n",
    "    for currData in inputList:\n",
    "        newNode = Node(currData)\n",
    "        if head is None:\n",
    "            head = newNode\n",
    "            cursor = head\n",
    "        else:\n",
    "            cursor.next = newNode\n",
    "            cursor = cursor.next\n",
    "\n",
    "    return head\n",
    "\n",
    "head = takeInput2()"
   ]
  },
  {
   "cell_type": "code",
   "execution_count": 17,
   "metadata": {},
   "outputs": [
    {
     "name": "stdout",
     "output_type": "stream",
     "text": [
      "1\n",
      "2\n",
      "3\n",
      "4\n",
      "5\n"
     ]
    }
   ],
   "source": [
    "printLinkedList(head)"
   ]
  },
  {
   "cell_type": "code",
   "execution_count": 18,
   "metadata": {},
   "outputs": [
    {
     "data": {
      "text/plain": [
       "5"
      ]
     },
     "execution_count": 18,
     "metadata": {},
     "output_type": "execute_result"
    }
   ],
   "source": [
    "# Returning Length of a linked list with given head\n",
    "def length(head):\n",
    "    if head is None:\n",
    "        return -1\n",
    "    count = 0\n",
    "    while head is not None:\n",
    "        count += 1\n",
    "        head = head.next\n",
    "    return count\n",
    "\n",
    "length(head)"
   ]
  },
  {
   "cell_type": "code",
   "execution_count": 19,
   "metadata": {},
   "outputs": [
    {
     "name": "stdout",
     "output_type": "stream",
     "text": [
      "4\n"
     ]
    }
   ],
   "source": [
    "# Print ith Node\n",
    "def ithNode(head,nth):\n",
    "    i = 0\n",
    "    cursor = head\n",
    "    result = None\n",
    "    while cursor is not None:\n",
    "        if i == nth:\n",
    "            result = cursor.data\n",
    "            break\n",
    "        cursor = cursor.next\n",
    "        i += 1\n",
    "    if result is None:\n",
    "        print(-1)\n",
    "    else:\n",
    "        print(result)\n",
    "    \n",
    "ithNode(head,3)    "
   ]
  },
  {
   "cell_type": "code",
   "execution_count": 10,
   "metadata": {},
   "outputs": [
    {
     "name": "stdout",
     "output_type": "stream",
     "text": [
      "Given index is more than length\n"
     ]
    }
   ],
   "source": [
    "# Insert at ith Position\n",
    "def insertAtI(head,n,data):\n",
    "    prev = None\n",
    "    current = head\n",
    "    l = length(head)\n",
    "    if n > l:\n",
    "        print(\"Given index is more than length\")\n",
    "        return head\n",
    "\n",
    "    for i in range(n):\n",
    "        prev = current\n",
    "        current = current.next\n",
    "    # print(prev.data)\n",
    "    # print(current.data)\n",
    "    newNode = Node(data)\n",
    "    prev.next = newNode\n",
    "    newNode.next = current\n",
    "    return head\n",
    "\n",
    "# 1 2 3 5\n",
    "newHead = insertAtI(head,10,7)\n",
    "# T(n) = O(n) for length + O(n) Traversing to insert the element => T(n) = O(n)"
   ]
  },
  {
   "cell_type": "code",
   "execution_count": 11,
   "metadata": {},
   "outputs": [
    {
     "data": {
      "text/plain": [
       "-1"
      ]
     },
     "execution_count": 11,
     "metadata": {},
     "output_type": "execute_result"
    }
   ],
   "source": [
    "printLinkedList(newHead)"
   ]
  },
  {
   "cell_type": "code",
   "execution_count": 12,
   "metadata": {},
   "outputs": [
    {
     "name": "stdout",
     "output_type": "stream",
     "text": [
      "Given index is out of range\n"
     ]
    },
    {
     "data": {
      "text/plain": [
       "-1"
      ]
     },
     "execution_count": 12,
     "metadata": {},
     "output_type": "execute_result"
    }
   ],
   "source": [
    "# Delete ith Node\n",
    "def deleteAtI(head,ith):\n",
    "    prev = None\n",
    "    current = head\n",
    "    l = length(head)\n",
    "    if ith > l:\n",
    "        print(\"Given index is out of range\")\n",
    "        return head\n",
    "    for i in range(ith):\n",
    "        prev = current\n",
    "        current = current.next\n",
    "    prev.next = current.next\n",
    "\n",
    "    return head\n",
    "\n",
    "head = deleteAtI(newHead,3)\n",
    "printLinkedList(head)"
   ]
  },
  {
   "cell_type": "code",
   "execution_count": 50,
   "metadata": {},
   "outputs": [
    {
     "data": {
      "text/plain": [
       "7"
      ]
     },
     "execution_count": 50,
     "metadata": {},
     "output_type": "execute_result"
    }
   ],
   "source": [
    "# Length of Linked List Recursively\n",
    "def lengthRecursively(head):\n",
    "    if head.next is None:\n",
    "        return 1\n",
    "    head = head.next\n",
    "    return 1 + lengthRecursively(head)\n",
    "\n",
    "lengthRecursively(head)\n",
    "# printLinkedList(head)"
   ]
  },
  {
   "cell_type": "code",
   "execution_count": null,
   "metadata": {},
   "outputs": [
    {
     "name": "stdout",
     "output_type": "stream",
     "text": [
      "1\n",
      "2\n",
      "4\n",
      "3\n"
     ]
    }
   ],
   "source": [
    "printLinkedList(head)"
   ]
  },
  {
   "cell_type": "code",
   "execution_count": null,
   "metadata": {},
   "outputs": [],
   "source": [
    "def insertRecursively(head,i,data):\n",
    "    if i == 0:\n",
    "        newNode = Node(data)\n",
    "        newNode.next = head\n",
    "        return newNode\n",
    "    \n",
    "    smallHead = insertRecursively(head.next,i-1,data)\n",
    "    head.next = smallHead\n",
    "    return head"
   ]
  },
  {
   "cell_type": "code",
   "execution_count": null,
   "metadata": {},
   "outputs": [
    {
     "data": {
      "text/plain": [
       "<__main__.Node at 0x1b395c11320>"
      ]
     },
     "execution_count": 161,
     "metadata": {},
     "output_type": "execute_result"
    }
   ],
   "source": [
    "insertRecursively(head,2,4)"
   ]
  },
  {
   "cell_type": "code",
   "execution_count": 34,
   "metadata": {},
   "outputs": [],
   "source": [
    "def fun(head,i,data):\n",
    "    # if head.next is None:\n",
    "    #     return head\n",
    "    if i == 0:\n",
    "        newNode = Node(data)\n",
    "        newNode.next = head\n",
    "        return newNode\n",
    "    smallhead = fun(head.next,i-1,data)\n",
    "    head.next = smallhead\n",
    "\n",
    "    return head\n",
    "\n",
    "head = fun(head,7,2)"
   ]
  },
  {
   "cell_type": "code",
   "execution_count": 36,
   "metadata": {},
   "outputs": [
    {
     "name": "stdout",
     "output_type": "stream",
     "text": [
      "1\n",
      "2\n",
      "2\n",
      "3\n",
      "2\n",
      "4\n",
      "5\n",
      "2\n"
     ]
    }
   ],
   "source": [
    "printLinkedList(head)"
   ]
  },
  {
   "cell_type": "code",
   "execution_count": 42,
   "metadata": {},
   "outputs": [],
   "source": [
    "def deleteAtIRecursively(head,i):\n",
    "    if head is None:\n",
    "        return head\n",
    "    if i == 0:\n",
    "        return head.next\n",
    "\n",
    "    smallhead= deleteAtIRecursively(head.next,i-1)\n",
    "    head.next = smallhead\n",
    "    return head\n",
    "# 1 2 2 3 2 4 5 2\n",
    "head = deleteAtIRecursively(head,7)"
   ]
  },
  {
   "cell_type": "code",
   "execution_count": 53,
   "metadata": {},
   "outputs": [
    {
     "name": "stdout",
     "output_type": "stream",
     "text": [
      "1\n",
      "2\n",
      "3\n",
      "2\n",
      "4\n",
      "5\n",
      "2\n"
     ]
    }
   ],
   "source": [
    "printLinkedList(head)"
   ]
  },
  {
   "cell_type": "code",
   "execution_count": 47,
   "metadata": {},
   "outputs": [],
   "source": [
    "# Linear Search for the Node\n",
    "def findNode(head,num):\n",
    "    l = length(head)\n",
    "    for i in range(l):\n",
    "        if head.data == num:\n",
    "            return i\n",
    "        else:\n",
    "            head = head.next\n",
    "    return -1"
   ]
  },
  {
   "cell_type": "code",
   "execution_count": 49,
   "metadata": {},
   "outputs": [
    {
     "data": {
      "text/plain": [
       "-1"
      ]
     },
     "execution_count": 49,
     "metadata": {},
     "output_type": "execute_result"
    }
   ],
   "source": [
    "findNode(head,13)"
   ]
  },
  {
   "cell_type": "code",
   "execution_count": 51,
   "metadata": {},
   "outputs": [],
   "source": [
    "def lengthRecursively(head):\n",
    "    if head is None:\n",
    "        return 0\n",
    "    return 1 + lengthRecursively(head.next)"
   ]
  },
  {
   "cell_type": "code",
   "execution_count": 52,
   "metadata": {},
   "outputs": [
    {
     "data": {
      "text/plain": [
       "7"
      ]
     },
     "execution_count": 52,
     "metadata": {},
     "output_type": "execute_result"
    }
   ],
   "source": [
    "lengthRecursively(head)"
   ]
  },
  {
   "cell_type": "code",
   "execution_count": null,
   "metadata": {},
   "outputs": [],
   "source": [
    "# "
   ]
  }
 ],
 "metadata": {
  "kernelspec": {
   "display_name": "Python 3.6.7 64-bit",
   "language": "python",
   "name": "python3"
  },
  "language_info": {
   "codemirror_mode": {
    "name": "ipython",
    "version": 3
   },
   "file_extension": ".py",
   "mimetype": "text/x-python",
   "name": "python",
   "nbconvert_exporter": "python",
   "pygments_lexer": "ipython3",
   "version": "3.6.7"
  },
  "orig_nbformat": 4,
  "vscode": {
   "interpreter": {
    "hash": "806f607d2879a1b4a19c569ea1c4d008a051dacfc486f88d2f569701cd0a043a"
   }
  }
 },
 "nbformat": 4,
 "nbformat_minor": 2
}
