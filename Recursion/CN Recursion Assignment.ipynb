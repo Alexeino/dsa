{
 "cells": [
  {
   "cell_type": "code",
   "execution_count": 6,
   "metadata": {},
   "outputs": [],
   "source": [
    "# For given k find the geometric sum of 1 + 1/2^1 + 1/2^2 +... + 1/2^k\n",
    "\n",
    "def geoSum(k):\n",
    "    if k == 0:\n",
    "        return 1\n",
    "    power = 2 ** k\n",
    "    sum = 1/power\n",
    "\n",
    "    return sum + geoSum(k-1)"
   ]
  },
  {
   "cell_type": "code",
   "execution_count": 9,
   "metadata": {},
   "outputs": [
    {
     "data": {
      "text/plain": [
       "1.9375"
      ]
     },
     "execution_count": 9,
     "metadata": {},
     "output_type": "execute_result"
    }
   ],
   "source": [
    "sum = geoSum(4)\n",
    "sum"
   ]
  },
  {
   "cell_type": "code",
   "execution_count": 16,
   "metadata": {},
   "outputs": [],
   "source": [
    "# Check if a string is palindrome or not\n",
    "\n",
    "def isPalindrom(s,si,ei):\n",
    "    if si > ei:\n",
    "        return True\n",
    "    if s[si] != s[ei]:\n",
    "        return False\n",
    "    \n",
    "    return isPalindrom(s,si+1,ei-1)"
   ]
  },
  {
   "cell_type": "code",
   "execution_count": 17,
   "metadata": {},
   "outputs": [
    {
     "data": {
      "text/plain": [
       "True"
      ]
     },
     "execution_count": 17,
     "metadata": {},
     "output_type": "execute_result"
    }
   ],
   "source": [
    "S = \"RACECAR\"\n",
    "isPalindrom(S,0,len(S)-1)"
   ]
  },
  {
   "cell_type": "code",
   "execution_count": 27,
   "metadata": {},
   "outputs": [],
   "source": [
    "# Sum of digit of an integer\n",
    "def sumOfDigit(number):\n",
    "    if number < 10:\n",
    "        return number\n",
    "    remainder = number % 10\n",
    "    smaller_number = number // 10\n",
    "\n",
    "    return remainder + sumOfDigit(smaller_number)"
   ]
  },
  {
   "cell_type": "code",
   "execution_count": 28,
   "metadata": {},
   "outputs": [
    {
     "data": {
      "text/plain": [
       "18"
      ]
     },
     "execution_count": 28,
     "metadata": {},
     "output_type": "execute_result"
    }
   ],
   "source": [
    "num = 34542\n",
    "sumOfDigit(num)"
   ]
  },
  {
   "cell_type": "code",
   "execution_count": 32,
   "metadata": {},
   "outputs": [],
   "source": [
    "# Multiplication using recursion with add or substract sign only\n",
    "\n",
    "def multiplyRecursion(m,n):\n",
    "    if m == 0 or n == 0:\n",
    "        return 0\n",
    "    return m + multiplyRecursion(m,n-1)"
   ]
  },
  {
   "cell_type": "code",
   "execution_count": 37,
   "metadata": {},
   "outputs": [
    {
     "data": {
      "text/plain": [
       "0"
      ]
     },
     "execution_count": 37,
     "metadata": {},
     "output_type": "execute_result"
    }
   ],
   "source": [
    "multiplyRecursion(56,0)"
   ]
  },
  {
   "cell_type": "code",
   "execution_count": 13,
   "metadata": {},
   "outputs": [],
   "source": [
    "# Count number of zeroes in an integer\n",
    "def numberOfZero(number):\n",
    "    if number == 0:\n",
    "        return 1\n",
    "    elif number < 10:\n",
    "        return 0\n",
    "    remainder = number % 10\n",
    "    smaller_number = number // 10\n",
    "    \n",
    "    if remainder == 0:\n",
    "        return 1 + numberOfZero(smaller_number)\n",
    "    else:\n",
    "        return numberOfZero(smaller_number)\n"
   ]
  },
  {
   "cell_type": "code",
   "execution_count": 14,
   "metadata": {},
   "outputs": [
    {
     "data": {
      "text/plain": [
       "4"
      ]
     },
     "execution_count": 14,
     "metadata": {},
     "output_type": "execute_result"
    }
   ],
   "source": [
    "numberOfZero(1312013050210)"
   ]
  },
  {
   "cell_type": "code",
   "execution_count": 31,
   "metadata": {},
   "outputs": [],
   "source": [
    "def stringToInteger(s):\n",
    "    l = len(s)\n",
    "    if l == 1:\n",
    "        return ord(s) - ord(\"0\")\n",
    "    value = ord(s[0]) - ord(\"0\")\n",
    "    total = value * (10 ** (l-1))\n",
    "    return total + stringToInteger(s[1:])\n"
   ]
  },
  {
   "cell_type": "code",
   "execution_count": 33,
   "metadata": {},
   "outputs": [
    {
     "data": {
      "text/plain": [
       "2343243325"
      ]
     },
     "execution_count": 33,
     "metadata": {},
     "output_type": "execute_result"
    }
   ],
   "source": [
    "stringToInteger(\"2343243325\")"
   ]
  },
  {
   "cell_type": "code",
   "execution_count": 34,
   "metadata": {},
   "outputs": [],
   "source": [
    "def strToInt(s,si=0):\n",
    "    l = len(s)\n",
    "    if si == l - 1:\n",
    "        return ord(s[si]) - ord(\"0\")\n",
    "    value = ord(s[si]) - ord(\"0\")\n",
    "    total = value * (10 ** (l-1-si) )\n",
    "    return total + strToInt(s,si+1)"
   ]
  },
  {
   "cell_type": "code",
   "execution_count": 35,
   "metadata": {},
   "outputs": [
    {
     "data": {
      "text/plain": [
       "242342342"
      ]
     },
     "execution_count": 35,
     "metadata": {},
     "output_type": "execute_result"
    }
   ],
   "source": [
    "strToInt(\"242342342\")"
   ]
  },
  {
   "cell_type": "code",
   "execution_count": 60,
   "metadata": {},
   "outputs": [],
   "source": [
    "# Pair star\n",
    "def pair_star(s):\n",
    "    if len(s) == 1:\n",
    "        return s\n",
    "    smaller_string = pair_star(s[1:])\n",
    "\n",
    "    if s[0] == smaller_string[0]:\n",
    "        return s[0] +\"*\"+smaller_string\n",
    "    else:\n",
    "        return s[0] + smaller_string\n"
   ]
  },
  {
   "cell_type": "code",
   "execution_count": 64,
   "metadata": {},
   "outputs": [
    {
     "data": {
      "text/plain": [
       "'afadfaf*f*f'"
      ]
     },
     "execution_count": 64,
     "metadata": {},
     "output_type": "execute_result"
    }
   ],
   "source": [
    "pair_star(\"afadfafff\")"
   ]
  },
  {
   "cell_type": "code",
   "execution_count": 66,
   "metadata": {},
   "outputs": [],
   "source": [
    "# Check AB\n",
    "# Rules - \n",
    "# a. The string begins with an 'a'\n",
    "# b. Each 'a' is followed by nothing or an 'a' or \"bb\"\n",
    "# c. Each \"bb\" is followed by nothing or an 'a'\n"
   ]
  },
  {
   "cell_type": "code",
   "execution_count": 100,
   "metadata": {},
   "outputs": [],
   "source": [
    "def checkAB(s):\n",
    "    if len(s) == 0:\n",
    "        return True\n",
    "    \n",
    "    if s[0] == \"a\":\n",
    "        if len(s[1:]) > 1 and s[1:3] == \"bb\":\n",
    "            return checkAB(s[3:])\n",
    "        else:\n",
    "            return checkAB(s[1:])\n",
    "    else:\n",
    "        return False\n"
   ]
  },
  {
   "cell_type": "code",
   "execution_count": 105,
   "metadata": {},
   "outputs": [
    {
     "data": {
      "text/plain": [
       "True"
      ]
     },
     "execution_count": 105,
     "metadata": {},
     "output_type": "execute_result"
    }
   ],
   "source": [
    "checkAB(\"a\")"
   ]
  },
  {
   "cell_type": "code",
   "execution_count": 126,
   "metadata": {},
   "outputs": [],
   "source": [
    "# Staircase\n",
    "def staircase(n):\n",
    "    if n == 0:\n",
    "        return 1\n",
    "    elif n < 0:\n",
    "        return 0\n",
    "    s1 = staircase(n-1)\n",
    "    s2 = staircase(n-2)\n",
    "    s3 = staircase(n-3)\n",
    "    return s1+s2+s3"
   ]
  },
  {
   "cell_type": "code",
   "execution_count": 128,
   "metadata": {},
   "outputs": [
    {
     "data": {
      "text/plain": [
       "13"
      ]
     },
     "execution_count": 128,
     "metadata": {},
     "output_type": "execute_result"
    }
   ],
   "source": [
    "staircase(5)"
   ]
  },
  {
   "cell_type": "code",
   "execution_count": null,
   "metadata": {},
   "outputs": [],
   "source": []
  }
 ],
 "metadata": {
  "kernelspec": {
   "display_name": "Python 3.11.0 64-bit",
   "language": "python",
   "name": "python3"
  },
  "language_info": {
   "codemirror_mode": {
    "name": "ipython",
    "version": 3
   },
   "file_extension": ".py",
   "mimetype": "text/x-python",
   "name": "python",
   "nbconvert_exporter": "python",
   "pygments_lexer": "ipython3",
   "version": "3.11.0"
  },
  "orig_nbformat": 4,
  "vscode": {
   "interpreter": {
    "hash": "c261aea317cc0286b3b3261fbba9abdec21eaa57589985bb7a274bf54d6cc0a7"
   }
  }
 },
 "nbformat": 4,
 "nbformat_minor": 2
}
