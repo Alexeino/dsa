{
 "cells": [
  {
   "cell_type": "code",
   "execution_count": 5,
   "metadata": {},
   "outputs": [],
   "source": [
    "# Find if string S contains all the alphabets of string T in same order\n",
    "def contains(s,t,si=0):\n",
    "    if si >= len(t):\n",
    "        return True\n",
    "    if len(s) == 0:\n",
    "        return False\n",
    "    if s[0] == t[si]:\n",
    "        return contains(s[1:],t,si+1)\n",
    "    else:\n",
    "        return contains(s[1:],t,si)"
   ]
  },
  {
   "cell_type": "code",
   "execution_count": 8,
   "metadata": {},
   "outputs": [
    {
     "data": {
      "text/plain": [
       "True"
      ]
     },
     "execution_count": 8,
     "metadata": {},
     "output_type": "execute_result"
    }
   ],
   "source": [
    "s = \"abchjsgsuohhdhyrikkknddg\"\n",
    "t = \"coding\"\n",
    "contains(s,t)"
   ]
  },
  {
   "cell_type": "code",
   "execution_count": 43,
   "metadata": {},
   "outputs": [],
   "source": [
    "# You have made a smartphone app and want to set its subscription price such that the profit earned is maximised. There are certain users who will subscribe to your app only if their budget is greater than or equal to your price.\n",
    "# You will be provided with a list of size N having budgets of subscribers and you need to return the maximum profit that you can earn.\n",
    "def merge(l1,l2):\n",
    "    # [3,4,5] [1,2,6]\n",
    "    temp = []\n",
    "    i = 0\n",
    "    j = 0\n",
    "    while i < len(l1 ) :\n",
    "        if l1[i] < l2[j]:\n",
    "            temp.append(l1[i])\n",
    "            i+= 1\n",
    "        else:\n",
    "            temp.append(l2[j])\n",
    "            j+= 1\n",
    "        if j == len(l2):\n",
    "            break\n",
    "\n",
    "    while j < len(l2):\n",
    "        temp.append(l2[j])\n",
    "        j+=1\n",
    "    while i < len(l1):\n",
    "        temp.append(l1[i])\n",
    "        i += 1\n",
    "    \n",
    "    return temp\n",
    "\n",
    "\n",
    "def mergeSort(ls):\n",
    "    if len(ls) <= 1:\n",
    "        return ls\n",
    "    mid = len(ls) // 2\n",
    "\n",
    "    ls1 = ls[:mid]\n",
    "    ls2 = ls[mid:]\n",
    "\n",
    "    small1 = mergeSort(ls1)\n",
    "    small2 = mergeSort(ls2)\n",
    "\n",
    "    temp = merge(small1,small2)\n",
    "\n",
    "    return temp\n",
    "\n",
    "\n",
    "def maximum(arr):\n",
    "    arr = mergeSort(arr)\n",
    "    l = len(arr)\n",
    "    arr = [(l-i)*index for i,index in enumerate(arr)]\n",
    "    return max(arr)"
   ]
  },
  {
   "cell_type": "code",
   "execution_count": 44,
   "metadata": {},
   "outputs": [
    {
     "data": {
      "text/plain": [
       "60"
      ]
     },
     "execution_count": 44,
     "metadata": {},
     "output_type": "execute_result"
    }
   ],
   "source": [
    "arr = [30,20,14,53]\n",
    "max_price = maximum(arr)\n",
    "max_price\n"
   ]
  },
  {
   "cell_type": "code",
   "execution_count": null,
   "metadata": {},
   "outputs": [],
   "source": []
  }
 ],
 "metadata": {
  "kernelspec": {
   "display_name": "Python 3.11.0 64-bit",
   "language": "python",
   "name": "python3"
  },
  "language_info": {
   "codemirror_mode": {
    "name": "ipython",
    "version": 3
   },
   "file_extension": ".py",
   "mimetype": "text/x-python",
   "name": "python",
   "nbconvert_exporter": "python",
   "pygments_lexer": "ipython3",
   "version": "3.11.0"
  },
  "orig_nbformat": 4,
  "vscode": {
   "interpreter": {
    "hash": "c261aea317cc0286b3b3261fbba9abdec21eaa57589985bb7a274bf54d6cc0a7"
   }
  }
 },
 "nbformat": 4,
 "nbformat_minor": 2
}
